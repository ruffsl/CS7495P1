{
 "metadata": {
  "name": "Load Data"
 },
 "nbformat": 3,
 "nbformat_minor": 0,
 "worksheets": [
  {
   "cells": [
    {
     "cell_type": "code",
     "collapsed": false,
     "input": [
      "import os\n",
      "import pandas as pd\n",
      "import numpy as np\n",
      "import networkx as nx\n",
      "from PIL import Image\n",
      "from get_lat_lon_exif_pil import *"
     ],
     "language": "python",
     "metadata": {},
     "outputs": [],
     "prompt_number": 32
    },
    {
     "cell_type": "code",
     "collapsed": false,
     "input": [
      "imPath = '/user_home/w_Ruffin/Photos/'\n",
      "imFolder = 'BaseBall'\n",
      "imCVS = imPath+imFolder+'/'+imFolder+'.csv'"
     ],
     "language": "python",
     "metadata": {},
     "outputs": [],
     "prompt_number": 8
    },
    {
     "cell_type": "code",
     "collapsed": false,
     "input": [
      "df = pd.read_csv(imCVS)"
     ],
     "language": "python",
     "metadata": {},
     "outputs": [],
     "prompt_number": 9
    },
    {
     "cell_type": "code",
     "collapsed": false,
     "input": [
      "df"
     ],
     "language": "python",
     "metadata": {},
     "outputs": [
      {
       "html": [
        "<div style=\"max-height:1000px;max-width:1500px;overflow:auto;\">\n",
        "<table border=\"1\" class=\"dataframe\">\n",
        "  <thead>\n",
        "    <tr style=\"text-align: right;\">\n",
        "      <th></th>\n",
        "      <th>1</th>\n",
        "      <th>2</th>\n",
        "      <th>3</th>\n",
        "      <th>4</th>\n",
        "      <th>5</th>\n",
        "    </tr>\n",
        "  </thead>\n",
        "  <tbody>\n",
        "    <tr>\n",
        "      <th>0 </th>\n",
        "      <td>  NaN</td>\n",
        "      <td>  NaN</td>\n",
        "      <td>  NaN</td>\n",
        "      <td>  NaN</td>\n",
        "      <td>  NaN</td>\n",
        "    </tr>\n",
        "    <tr>\n",
        "      <th>1 </th>\n",
        "      <td>  NaN</td>\n",
        "      <td>  NaN</td>\n",
        "      <td>  NaN</td>\n",
        "      <td>  NaN</td>\n",
        "      <td>  NaN</td>\n",
        "    </tr>\n",
        "    <tr>\n",
        "      <th>2 </th>\n",
        "      <td>  NaN</td>\n",
        "      <td>  NaN</td>\n",
        "      <td>  NaN</td>\n",
        "      <td>  NaN</td>\n",
        "      <td>  NaN</td>\n",
        "    </tr>\n",
        "    <tr>\n",
        "      <th>3 </th>\n",
        "      <td>  NaN</td>\n",
        "      <td>  NaN</td>\n",
        "      <td>  NaN</td>\n",
        "      <td>  NaN</td>\n",
        "      <td>  NaN</td>\n",
        "    </tr>\n",
        "    <tr>\n",
        "      <th>4 </th>\n",
        "      <td>  NaN</td>\n",
        "      <td>  NaN</td>\n",
        "      <td>  NaN</td>\n",
        "      <td>  NaN</td>\n",
        "      <td>  NaN</td>\n",
        "    </tr>\n",
        "    <tr>\n",
        "      <th>5 </th>\n",
        "      <td> 1994</td>\n",
        "      <td>  530</td>\n",
        "      <td> 7227</td>\n",
        "      <td> 6306</td>\n",
        "      <td> 6896</td>\n",
        "    </tr>\n",
        "    <tr>\n",
        "      <th>6 </th>\n",
        "      <td>   76</td>\n",
        "      <td> 6848</td>\n",
        "      <td> 6283</td>\n",
        "      <td> 5262</td>\n",
        "      <td> 5612</td>\n",
        "    </tr>\n",
        "    <tr>\n",
        "      <th>7 </th>\n",
        "      <td> 6919</td>\n",
        "      <td> 6032</td>\n",
        "      <td> 5711</td>\n",
        "      <td> 4771</td>\n",
        "      <td> 4973</td>\n",
        "    </tr>\n",
        "    <tr>\n",
        "      <th>8 </th>\n",
        "      <td> 6425</td>\n",
        "      <td> 5432</td>\n",
        "      <td> 5272</td>\n",
        "      <td> 4378</td>\n",
        "      <td> 4499</td>\n",
        "    </tr>\n",
        "    <tr>\n",
        "      <th>9 </th>\n",
        "      <td> 5888</td>\n",
        "      <td> 4703</td>\n",
        "      <td> 4683</td>\n",
        "      <td> 3891</td>\n",
        "      <td> 3920</td>\n",
        "    </tr>\n",
        "    <tr>\n",
        "      <th>10</th>\n",
        "      <td> 5458</td>\n",
        "      <td> 4138</td>\n",
        "      <td> 4221</td>\n",
        "      <td> 3513</td>\n",
        "      <td> 3468</td>\n",
        "    </tr>\n",
        "    <tr>\n",
        "      <th>11</th>\n",
        "      <td> 4846</td>\n",
        "      <td> 3269</td>\n",
        "      <td> 3489</td>\n",
        "      <td> 3003</td>\n",
        "      <td> 2795</td>\n",
        "    </tr>\n",
        "    <tr>\n",
        "      <th>12</th>\n",
        "      <td> 3862</td>\n",
        "      <td> 2020</td>\n",
        "      <td> 1529</td>\n",
        "      <td> 1862</td>\n",
        "      <td> 1458</td>\n",
        "    </tr>\n",
        "    <tr>\n",
        "      <th>13</th>\n",
        "      <td>  428</td>\n",
        "      <td> 6678</td>\n",
        "      <td> 6361</td>\n",
        "      <td> 5713</td>\n",
        "      <td> 5811</td>\n",
        "    </tr>\n",
        "  </tbody>\n",
        "</table>\n",
        "</div>"
       ],
       "output_type": "pyout",
       "prompt_number": 10,
       "text": [
        "       1     2     3     4     5\n",
        "0    NaN   NaN   NaN   NaN   NaN\n",
        "1    NaN   NaN   NaN   NaN   NaN\n",
        "2    NaN   NaN   NaN   NaN   NaN\n",
        "3    NaN   NaN   NaN   NaN   NaN\n",
        "4    NaN   NaN   NaN   NaN   NaN\n",
        "5   1994   530  7227  6306  6896\n",
        "6     76  6848  6283  5262  5612\n",
        "7   6919  6032  5711  4771  4973\n",
        "8   6425  5432  5272  4378  4499\n",
        "9   5888  4703  4683  3891  3920\n",
        "10  5458  4138  4221  3513  3468\n",
        "11  4846  3269  3489  3003  2795\n",
        "12  3862  2020  1529  1862  1458\n",
        "13   428  6678  6361  5713  5811"
       ]
      }
     ],
     "prompt_number": 10
    },
    {
     "cell_type": "code",
     "collapsed": false,
     "input": [
      "imgFiles = findFiles(imPath+'/'+imFolder,'.jpg')\n",
      "D = nx.DiGraph()\n",
      "latNull, lonNull = getLatLon(imPath+imFolder+'/',imgFiles[0])\n",
      "for i, imgFile in enumerate(imgFiles):\n",
      "    i += 1\n",
      "    lat, lon = getLatLon(imPath+imFolder+'/',imgFile)\n",
      "    D.add_node(i)\n",
      "    D.node[i]['lat'] = lat\n",
      "    D.node[i]['lon'] = lon\n",
      "    x, y = getXYpos(latNull, lonNull, lat, lon)\n",
      "    D.node[i]['x'] = x\n",
      "    D.node[i]['y'] = y"
     ],
     "language": "python",
     "metadata": {},
     "outputs": [],
     "prompt_number": 60
    },
    {
     "cell_type": "code",
     "collapsed": false,
     "input": [
      "for item, frame in df.iteritems():\n",
      "    for feature, f in enumerate(frame):\n",
      "        if ~np.isnan(f):\n",
      "            D.add_edge(int(item),feature+1, angle = f)\n",
      "        else:\n",
      "            D.add_edge(int(item),feature+1, angle = None)\n",
      "            "
     ],
     "language": "python",
     "metadata": {},
     "outputs": [],
     "prompt_number": 70
    },
    {
     "cell_type": "code",
     "collapsed": false,
     "input": [
      "nx.draw_circular(D)"
     ],
     "language": "python",
     "metadata": {},
     "outputs": [
      {
       "output_type": "display_data",
       "png": "[encoded data removed]",
       "text": [
        "<matplotlib.figure.Figure at 0x3e0fd50>"
       ]
      }
     ],
     "prompt_number": 71
    },
    {
     "cell_type": "code",
     "collapsed": false,
     "input": [
      "D.nodes(data=True)"
     ],
     "language": "python",
     "metadata": {},
     "outputs": [
      {
       "output_type": "pyout",
       "prompt_number": 76,
       "text": [
        "[(1, {'lat': 33.777325, 'lon': -84.39466583333333, 'x': 0.0, 'y': 0.0}),\n",
        " (2,\n",
        "  {'lat': 33.777367777777776,\n",
        "   'lon': -84.39468500000001,\n",
        "   'x': -1.7734839868285155,\n",
        "   'y': 4.762017469241154}),\n",
        " (3,\n",
        "  {'lat': 33.77758583333333,\n",
        "   'lon': -84.39507277777778,\n",
        "   'x': -37.65440637088912,\n",
        "   'y': 29.035937685437197}),\n",
        " (4,\n",
        "  {'lat': 33.77734888888889,\n",
        "   'lon': -84.39494777777779,\n",
        "   'x': -26.088206462164145,\n",
        "   'y': 2.659308456931135}),\n",
        " (5,\n",
        "  {'lat': 33.77748,\n",
        "   'lon': -84.39492194444445,\n",
        "   'x': -23.697858480431549,\n",
        "   'y': 17.25458277771779}),\n",
        " (6, {}),\n",
        " (7, {}),\n",
        " (8, {}),\n",
        " (9, {}),\n",
        " (10, {}),\n",
        " (11, {}),\n",
        " (12, {}),\n",
        " (13, {}),\n",
        " (14, {})]"
       ]
      }
     ],
     "prompt_number": 76
    },
    {
     "cell_type": "code",
     "collapsed": false,
     "input": [
      "D.edges(data=True)"
     ],
     "language": "python",
     "metadata": {},
     "outputs": [
      {
       "output_type": "pyout",
       "prompt_number": 77,
       "text": [
        "[(1, 1, {'angle': None}),\n",
        " (1, 2, {'angle': None}),\n",
        " (1, 3, {'angle': None}),\n",
        " (1, 4, {'angle': None}),\n",
        " (1, 5, {'angle': None}),\n",
        " (1, 6, {'angle': 1994.0}),\n",
        " (1, 7, {'angle': 76.0}),\n",
        " (1, 8, {'angle': 6919.0}),\n",
        " (1, 9, {'angle': 6425.0}),\n",
        " (1, 10, {'angle': 5888.0}),\n",
        " (1, 11, {'angle': 5458.0}),\n",
        " (1, 12, {'angle': 4846.0}),\n",
        " (1, 13, {'angle': 3862.0}),\n",
        " (1, 14, {'angle': 428.0}),\n",
        " (2, 1, {'angle': None}),\n",
        " (2, 2, {'angle': None}),\n",
        " (2, 3, {'angle': None}),\n",
        " (2, 4, {'angle': None}),\n",
        " (2, 5, {'angle': None}),\n",
        " (2, 6, {'angle': 530.0}),\n",
        " (2, 7, {'angle': 6848.0}),\n",
        " (2, 8, {'angle': 6032.0}),\n",
        " (2, 9, {'angle': 5432.0}),\n",
        " (2, 10, {'angle': 4703.0}),\n",
        " (2, 11, {'angle': 4138.0}),\n",
        " (2, 12, {'angle': 3269.0}),\n",
        " (2, 13, {'angle': 2020.0}),\n",
        " (2, 14, {'angle': 6678.0}),\n",
        " (3, 1, {'angle': None}),\n",
        " (3, 2, {'angle': None}),\n",
        " (3, 3, {'angle': None}),\n",
        " (3, 4, {'angle': None}),\n",
        " (3, 5, {'angle': None}),\n",
        " (3, 6, {'angle': 7227.0}),\n",
        " (3, 7, {'angle': 6283.0}),\n",
        " (3, 8, {'angle': 5711.0}),\n",
        " (3, 9, {'angle': 5272.0}),\n",
        " (3, 10, {'angle': 4683.0}),\n",
        " (3, 11, {'angle': 4221.0}),\n",
        " (3, 12, {'angle': 3489.0}),\n",
        " (3, 13, {'angle': 1529.0}),\n",
        " (3, 14, {'angle': 6361.0}),\n",
        " (4, 1, {'angle': None}),\n",
        " (4, 2, {'angle': None}),\n",
        " (4, 3, {'angle': None}),\n",
        " (4, 4, {'angle': None}),\n",
        " (4, 5, {'angle': None}),\n",
        " (4, 6, {'angle': 6306.0}),\n",
        " (4, 7, {'angle': 5262.0}),\n",
        " (4, 8, {'angle': 4771.0}),\n",
        " (4, 9, {'angle': 4378.0}),\n",
        " (4, 10, {'angle': 3891.0}),\n",
        " (4, 11, {'angle': 3513.0}),\n",
        " (4, 12, {'angle': 3003.0}),\n",
        " (4, 13, {'angle': 1862.0}),\n",
        " (4, 14, {'angle': 5713.0}),\n",
        " (5, 1, {'angle': None}),\n",
        " (5, 2, {'angle': None}),\n",
        " (5, 3, {'angle': None}),\n",
        " (5, 4, {'angle': None}),\n",
        " (5, 5, {'angle': None}),\n",
        " (5, 6, {'angle': 6896.0}),\n",
        " (5, 7, {'angle': 5612.0}),\n",
        " (5, 8, {'angle': 4973.0}),\n",
        " (5, 9, {'angle': 4499.0}),\n",
        " (5, 10, {'angle': 3920.0}),\n",
        " (5, 11, {'angle': 3468.0}),\n",
        " (5, 12, {'angle': 2795.0}),\n",
        " (5, 13, {'angle': 1458.0}),\n",
        " (5, 14, {'angle': 5811.0})]"
       ]
      }
     ],
     "prompt_number": 77
    },
    {
     "cell_type": "code",
     "collapsed": false,
     "input": [
      "nx.adj_matrix(D,weight='angle')"
     ],
     "language": "python",
     "metadata": {},
     "outputs": [
      {
       "output_type": "pyout",
       "prompt_number": 73,
       "text": [
        "matrix([[   nan,    nan,    nan,    nan,    nan,  1994.,    76.,  6919.,\n",
        "          6425.,  5888.,  5458.,  4846.,  3862.,   428.],\n",
        "        [   nan,    nan,    nan,    nan,    nan,   530.,  6848.,  6032.,\n",
        "          5432.,  4703.,  4138.,  3269.,  2020.,  6678.],\n",
        "        [   nan,    nan,    nan,    nan,    nan,  7227.,  6283.,  5711.,\n",
        "          5272.,  4683.,  4221.,  3489.,  1529.,  6361.],\n",
        "        [   nan,    nan,    nan,    nan,    nan,  6306.,  5262.,  4771.,\n",
        "          4378.,  3891.,  3513.,  3003.,  1862.,  5713.],\n",
        "        [   nan,    nan,    nan,    nan,    nan,  6896.,  5612.,  4973.,\n",
        "          4499.,  3920.,  3468.,  2795.,  1458.,  5811.],\n",
        "        [    0.,     0.,     0.,     0.,     0.,     0.,     0.,     0.,\n",
        "             0.,     0.,     0.,     0.,     0.,     0.],\n",
        "        [    0.,     0.,     0.,     0.,     0.,     0.,     0.,     0.,\n",
        "             0.,     0.,     0.,     0.,     0.,     0.],\n",
        "        [    0.,     0.,     0.,     0.,     0.,     0.,     0.,     0.,\n",
        "             0.,     0.,     0.,     0.,     0.,     0.],\n",
        "        [    0.,     0.,     0.,     0.,     0.,     0.,     0.,     0.,\n",
        "             0.,     0.,     0.,     0.,     0.,     0.],\n",
        "        [    0.,     0.,     0.,     0.,     0.,     0.,     0.,     0.,\n",
        "             0.,     0.,     0.,     0.,     0.,     0.],\n",
        "        [    0.,     0.,     0.,     0.,     0.,     0.,     0.,     0.,\n",
        "             0.,     0.,     0.,     0.,     0.,     0.],\n",
        "        [    0.,     0.,     0.,     0.,     0.,     0.,     0.,     0.,\n",
        "             0.,     0.,     0.,     0.,     0.,     0.],\n",
        "        [    0.,     0.,     0.,     0.,     0.,     0.,     0.,     0.,\n",
        "             0.,     0.,     0.,     0.,     0.,     0.],\n",
        "        [    0.,     0.,     0.,     0.,     0.,     0.,     0.,     0.,\n",
        "             0.,     0.,     0.,     0.,     0.,     0.]])"
       ]
      }
     ],
     "prompt_number": 73
    },
    {
     "cell_type": "code",
     "collapsed": false,
     "input": [
      "def getAngles(x,imFile):\n",
      "    ySize = float(img.shape[0])\n",
      "    xSize = float(img.shape[1])\n",
      "    theta = (x/xSize)*math.pi*2\n",
      "    phi = 0\n",
      "    return [theta, phi]"
     ],
     "language": "python",
     "metadata": {},
     "outputs": [],
     "prompt_number": 200
    },
    {
     "cell_type": "code",
     "collapsed": false,
     "input": [
      "def findFiles(dir,extension):\n",
      "    os.chdir(dir)\n",
      "    allFiles = os.listdir(\".\")\n",
      "    foundFiles = []\n",
      "    for file in allFiles:\n",
      "        if file.endswith(extension):\n",
      "            foundFiles.append(file)\n",
      "    foundFiles.sort(key=lambda x: x.lower())\n",
      "    return foundFiles"
     ],
     "language": "python",
     "metadata": {},
     "outputs": [],
     "prompt_number": 17
    },
    {
     "cell_type": "code",
     "collapsed": false,
     "input": [
      "def asRadians(degrees):\n",
      "    return degrees * pi / 180\n",
      "\n",
      "def getXYpos(latNull, lonNull, lat, lon, R=40075160):\n",
      "    \"\"\" Calculates X and Y distances in meters.\n",
      "    \"\"\"\n",
      "    deltaLatitude = lat - latNull\n",
      "    deltaLongitude = lon - lonNull\n",
      "    latitudeCircumference = R * cos(asRadians(latNull))\n",
      "    resultX = deltaLongitude * latitudeCircumference / 360\n",
      "    resultY = deltaLatitude * R / 360\n",
      "    return resultX, resultY"
     ],
     "language": "python",
     "metadata": {},
     "outputs": [],
     "prompt_number": 36
    },
    {
     "cell_type": "code",
     "collapsed": false,
     "input": [
      "imgFiles = findFiles(imPath+'/'+imFolder,'.jpg')\n",
      "D = nx.DiGraph()\n",
      "latNull, lonNull = getLatLon(imPath+imFolder+'/',imgFiles[0])\n",
      "for i, imgFile in enumerate(imgFiles):\n",
      "    i += 1\n",
      "    lat, lon = getLatLon(imPath+imFolder+'/',imgFile)\n",
      "    D.add_node(i)\n",
      "    D.node[i]['lat'] = lat\n",
      "    D.node[i]['lon'] = lon\n",
      "    x, y = getXYpos(latNull, lonNull, lat, lon)\n",
      "    D.node[i]['x'] = x\n",
      "    D.node[i]['y'] = y"
     ],
     "language": "python",
     "metadata": {},
     "outputs": [],
     "prompt_number": 51
    },
    {
     "cell_type": "code",
     "collapsed": false,
     "input": [
      "x1 = D.node[3]['x']\n",
      "y1 = D.node[3]['y']\n",
      "x2 = D.node[4]['x']\n",
      "y2 = D.node[4]['y']\n",
      "sqrt((x1-x2)**2+(y1-y2)**2)"
     ],
     "language": "python",
     "metadata": {},
     "outputs": [
      {
       "output_type": "pyout",
       "prompt_number": 59,
       "text": [
        "28.801103273775293"
       ]
      }
     ],
     "prompt_number": 59
    },
    {
     "cell_type": "code",
     "collapsed": false,
     "input": [
      "nx.draw(D)"
     ],
     "language": "python",
     "metadata": {},
     "outputs": [
      {
       "output_type": "display_data",
       "png": "[encoded data removed]",
       "text": [
        "<matplotlib.figure.Figure at 0x3c8fa90>"
       ]
      }
     ],
     "prompt_number": 55
    },
    {
     "cell_type": "code",
     "collapsed": false,
     "input": [
      "img = Image.open(imPath+'/'+imFolder+'/'+pics[0])"
     ],
     "language": "python",
     "metadata": {},
     "outputs": [],
     "prompt_number": 19
    },
    {
     "cell_type": "code",
     "collapsed": false,
     "input": [
      "exif_data = get_exif_data(img)\n",
      "print get_lat_lon(exif_data)"
     ],
     "language": "python",
     "metadata": {},
     "outputs": [
      {
       "output_type": "stream",
       "stream": "stdout",
       "text": [
        "(33.777325, -84.39466583333333)\n"
       ]
      }
     ],
     "prompt_number": 20
    },
    {
     "cell_type": "code",
     "collapsed": false,
     "input": [
      "getLatLon(imPath+'/'+imFolder+'/',pics[0])"
     ],
     "language": "python",
     "metadata": {},
     "outputs": [
      {
       "output_type": "pyout",
       "prompt_number": 33,
       "text": [
        "(33.777325, -84.39466583333333)"
       ]
      }
     ],
     "prompt_number": 33
    },
    {
     "cell_type": "code",
     "collapsed": false,
     "input": [
      "n.lat = 7"
     ],
     "language": "python",
     "metadata": {},
     "outputs": [
      {
       "ename": "NameError",
       "evalue": "name 'n' is not defined",
       "output_type": "pyerr",
       "traceback": [
        "\u001b[1;31m---------------------------------------------------------------------------\u001b[0m\n\u001b[1;31mNameError\u001b[0m                                 Traceback (most recent call last)",
        "\u001b[1;32m<ipython-input-34-0c94fec4458e>\u001b[0m in \u001b[0;36m<module>\u001b[1;34m()\u001b[0m\n\u001b[1;32m----> 1\u001b[1;33m \u001b[0mn\u001b[0m\u001b[1;33m.\u001b[0m\u001b[0mlat\u001b[0m \u001b[1;33m=\u001b[0m \u001b[1;36m7\u001b[0m\u001b[1;33m\u001b[0m\u001b[0m\n\u001b[0m",
        "\u001b[1;31mNameError\u001b[0m: name 'n' is not defined"
       ]
      }
     ],
     "prompt_number": 34
    },
    {
     "cell_type": "code",
     "collapsed": false,
     "input": [],
     "language": "python",
     "metadata": {},
     "outputs": []
    }
   ],
   "metadata": {}
  }
 ]
}