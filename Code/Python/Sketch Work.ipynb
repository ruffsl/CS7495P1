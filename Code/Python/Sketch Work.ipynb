{
 "metadata": {
  "name": "Sketch Work"
 },
 "nbformat": 3,
 "nbformat_minor": 0,
 "worksheets": [
  {
   "cells": [
    {
     "cell_type": "code",
     "collapsed": false,
     "input": [
      "import numpy as np\n",
      "import cv2"
     ],
     "language": "python",
     "metadata": {},
     "outputs": [],
     "prompt_number": 9
    },
    {
     "cell_type": "code",
     "collapsed": false,
     "input": [
      "# Load an color image in grayscale\n",
      "img = cv2.imread('/home/rox/Pictures/PANO_A.jpg',0)"
     ],
     "language": "python",
     "metadata": {},
     "outputs": [],
     "prompt_number": 10
    },
    {
     "cell_type": "code",
     "collapsed": false,
     "input": [
      "img.shape"
     ],
     "language": "python",
     "metadata": {},
     "outputs": [
      {
       "ename": "AttributeError",
       "evalue": "'NoneType' object has no attribute 'shape'",
       "output_type": "pyerr",
       "traceback": [
        "\u001b[1;31m---------------------------------------------------------------------------\u001b[0m\n\u001b[1;31mAttributeError\u001b[0m                            Traceback (most recent call last)",
        "\u001b[1;32m<ipython-input-11-439cc5f2bed0>\u001b[0m in \u001b[0;36m<module>\u001b[1;34m()\u001b[0m\n\u001b[1;32m----> 1\u001b[1;33m \u001b[0mimg\u001b[0m\u001b[1;33m.\u001b[0m\u001b[0mshape\u001b[0m\u001b[1;33m\u001b[0m\u001b[0m\n\u001b[0m",
        "\u001b[1;31mAttributeError\u001b[0m: 'NoneType' object has no attribute 'shape'"
       ]
      }
     ],
     "prompt_number": 11
    },
    {
     "cell_type": "code",
     "collapsed": false,
     "input": [
      "import numpy as np\n",
      "import cv2\n",
      "from matplotlib import pyplot as plt\n",
      "\n",
      "img = cv2.imread('/home/rox/Pictures/PANO_A.jpg',0)\n",
      "plt.imshow(img, cmap = 'gray', interpolation = 'bicubic')\n",
      "plt.xticks([]), plt.yticks([])  # to hide tick values on X and Y axis\n",
      "plt.show()"
     ],
     "language": "python",
     "metadata": {},
     "outputs": []
    },
    {
     "cell_type": "code",
     "collapsed": false,
     "input": [
      "def getAngles(x,y,img):\n",
      "    ySize = float(img.shape[0])\n",
      "    xSize = float(img.shape[1])\n",
      "    theta = (x/xSize)*math.pi*2\n",
      "    phi = 0\n",
      "    return [theta, phi]"
     ],
     "language": "python",
     "metadata": {},
     "outputs": []
    },
    {
     "cell_type": "code",
     "collapsed": false,
     "input": [
      "getAngles(3750,0,img)"
     ],
     "language": "python",
     "metadata": {},
     "outputs": []
    },
    {
     "cell_type": "code",
     "collapsed": false,
     "input": [
      "import pandas as pd\n",
      "import numpy as np\n",
      "import networkx as nx"
     ],
     "language": "python",
     "metadata": {},
     "outputs": []
    },
    {
     "cell_type": "code",
     "collapsed": false,
     "input": [
      "G=nx.DiGraph()\n",
      "G.add_node(\"A\")\n",
      "G.add_node(\"B\")\n",
      "G.add_node(\"C\")\n",
      "\n",
      "G.add_edge(\"A\",\"B\")\n",
      "G.add_edge(\"B\",\"C\")\n",
      "G.add_edge(\"C\",\"A\")\n",
      "G.add_edge(\"A\",\"C\")\n",
      "print(G.nodes())\n",
      "print(G.edges())"
     ],
     "language": "python",
     "metadata": {},
     "outputs": []
    },
    {
     "cell_type": "code",
     "collapsed": false,
     "input": [
      "#!/usr/bin/env python\n",
      "\"\"\"\n",
      "Draw a graph with matplotlib.\n",
      "You must have matplotlib for this to work.\n",
      "\"\"\"\n",
      "__author__ = \"\"\"Aric Hagberg (hagberg@lanl.gov)\"\"\"\n",
      "try:\n",
      "    import matplotlib.pyplot as plt\n",
      "except:\n",
      "    raise\n",
      "\n",
      "import networkx as nx\n",
      "\n",
      "G=nx.house_graph()\n",
      "# explicitly set positions\n",
      "pos={0:(0,0),\n",
      "     1:(1,0),\n",
      "     2:(0,1),\n",
      "     3:(1,1),\n",
      "     4:(0.5,2.0)}\n",
      "\n",
      "nx.draw_networkx_nodes(G,pos,node_size=2000,nodelist=[4])\n",
      "nx.draw_networkx_nodes(G,pos,node_size=3000,nodelist=[0,1,2,3],node_color='b')\n",
      "nx.draw_networkx_edges(G,pos,alpha=0.5,width=6)\n",
      "plt.axis('off')\n",
      "plt.savefig(\"house_with_colors.png\") # save as png\n",
      "plt.show() # display"
     ],
     "language": "python",
     "metadata": {},
     "outputs": [
      {
       "metadata": {},
       "output_type": "display_data",
       "png": "[encoded data removed]",
       "text": [
        "<matplotlib.figure.Figure at 0x36cf450>"
       ]
      }
     ],
     "prompt_number": 43
    },
    {
     "cell_type": "code",
     "collapsed": false,
     "input": [
      "def graphIt(df, imgs):\n",
      "    G = nx.DiGraph()\n",
      "    for i, node in enumerate(df):\n",
      "        nodeData = data(imgs[node])\n",
      "        G.add_node(node, nodeData)\n",
      "    for node in df:\n",
      "        for feature in node:\n",
      "            G.add_edge(node, feature, angle)\n",
      "            "
     ],
     "language": "python",
     "metadata": {},
     "outputs": [],
     "prompt_number": 12
    },
    {
     "cell_type": "code",
     "collapsed": false,
     "input": [
      "matrix = np.array([[None,225,270],[45,None,0],[90,180,None]])\n",
      "df = pd.DataFrame(matrix)\n",
      "df"
     ],
     "language": "python",
     "metadata": {},
     "outputs": [
      {
       "html": [
        "<div style=\"max-height:1000px;max-width:1500px;overflow:auto;\">\n",
        "<table border=\"1\" class=\"dataframe\">\n",
        "  <thead>\n",
        "    <tr style=\"text-align: right;\">\n",
        "      <th></th>\n",
        "      <th>0</th>\n",
        "      <th>1</th>\n",
        "      <th>2</th>\n",
        "    </tr>\n",
        "  </thead>\n",
        "  <tbody>\n",
        "    <tr>\n",
        "      <th>0</th>\n",
        "      <td> None</td>\n",
        "      <td>  225</td>\n",
        "      <td>  270</td>\n",
        "    </tr>\n",
        "    <tr>\n",
        "      <th>1</th>\n",
        "      <td>   45</td>\n",
        "      <td> None</td>\n",
        "      <td>    0</td>\n",
        "    </tr>\n",
        "    <tr>\n",
        "      <th>2</th>\n",
        "      <td>   90</td>\n",
        "      <td>  180</td>\n",
        "      <td> None</td>\n",
        "    </tr>\n",
        "  </tbody>\n",
        "</table>\n",
        "</div>"
       ],
       "output_type": "pyout",
       "prompt_number": 13,
       "text": [
        "      0     1     2\n",
        "0  None   225   270\n",
        "1    45  None     0\n",
        "2    90   180  None"
       ]
      }
     ],
     "prompt_number": 13
    },
    {
     "cell_type": "code",
     "collapsed": false,
     "input": [
      "def localizeToAnchor(matrix):\n",
      "    "
     ],
     "language": "python",
     "metadata": {},
     "outputs": [],
     "prompt_number": 15
    },
    {
     "cell_type": "code",
     "collapsed": false,
     "input": [],
     "language": "python",
     "metadata": {},
     "outputs": []
    }
   ],
   "metadata": {}
  }
 ]
}