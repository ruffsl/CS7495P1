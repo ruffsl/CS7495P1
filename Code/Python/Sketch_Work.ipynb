{
 "metadata": {
  "name": "Sketch_Work"
 },
 "nbformat": 3,
 "nbformat_minor": 0,
 "worksheets": [
  {
   "cells": [
    {
     "cell_type": "code",
     "collapsed": false,
     "input": [
      "import numpy as np\n",
      "import cv2"
     ],
     "language": "python",
     "metadata": {},
     "outputs": [],
     "prompt_number": 3
    },
    {
     "cell_type": "code",
     "collapsed": false,
     "input": [
      "# Load an color image in grayscale\n",
      "img = cv2.imread('/home/rox/Pictures/PANO_A.jpg',0)"
     ],
     "language": "python",
     "metadata": {},
     "outputs": [],
     "prompt_number": 4
    },
    {
     "cell_type": "code",
     "collapsed": false,
     "input": [
      "img.shape"
     ],
     "language": "python",
     "metadata": {},
     "outputs": [
      {
       "metadata": {},
       "output_type": "pyout",
       "prompt_number": 11,
       "text": [
        "(917, 7518)"
       ]
      }
     ],
     "prompt_number": 11
    },
    {
     "cell_type": "code",
     "collapsed": false,
     "input": [
      "import numpy as np\n",
      "import cv2\n",
      "from matplotlib import pyplot as plt\n",
      "\n",
      "img = cv2.imread('/home/rox/Pictures/PANO_A.jpg',0)\n",
      "plt.imshow(img, cmap = 'gray', interpolation = 'bicubic')\n",
      "plt.xticks([]), plt.yticks([])  # to hide tick values on X and Y axis\n",
      "plt.show()"
     ],
     "language": "python",
     "metadata": {},
     "outputs": [
      {
       "metadata": {},
       "output_type": "display_data",
       "png": "[encoded data removed]",
       "text": [
        "<matplotlib.figure.Figure at 0x330c7d0>"
       ]
      }
     ],
     "prompt_number": 6
    },
    {
     "cell_type": "code",
     "collapsed": false,
     "input": [],
     "language": "python",
     "metadata": {},
     "outputs": [],
     "prompt_number": 21
    },
    {
     "cell_type": "code",
     "collapsed": false,
     "input": [
      "getAngles(3750,0,img)"
     ],
     "language": "python",
     "metadata": {},
     "outputs": [
      {
       "metadata": {},
       "output_type": "pyout",
       "prompt_number": 22,
       "text": [
        "[3.1340708834694664, 0]"
       ]
      }
     ],
     "prompt_number": 22
    },
    {
     "cell_type": "code",
     "collapsed": false,
     "input": [
      "import pandas as pd\n",
      "import numpy as np\n",
      "import networkx as nx"
     ],
     "language": "python",
     "metadata": {},
     "outputs": [],
     "prompt_number": 37
    },
    {
     "cell_type": "code",
     "collapsed": false,
     "input": [
      "G=nx.DiGraph()\n",
      "G.add_node(\"A\")\n",
      "G.add_node(\"B\")\n",
      "G.add_node(\"C\")\n",
      "\n",
      "G.add_edge(\"A\",\"B\")\n",
      "G.add_edge(\"B\",\"C\")\n",
      "G.add_edge(\"C\",\"A\")\n",
      "G.add_edge(\"A\",\"C\")\n",
      "print(G.nodes())\n",
      "print(G.edges())"
     ],
     "language": "python",
     "metadata": {},
     "outputs": [
      {
       "output_type": "stream",
       "stream": "stdout",
       "text": [
        "['A', 'C', 'B']\n",
        "[('A', 'C'), ('A', 'B'), ('C', 'A'), ('B', 'C')]\n"
       ]
      }
     ],
     "prompt_number": 44
    },
    {
     "cell_type": "code",
     "collapsed": false,
     "input": [
      "#!/usr/bin/env python\n",
      "\"\"\"\n",
      "Draw a graph with matplotlib.\n",
      "You must have matplotlib for this to work.\n",
      "\"\"\"\n",
      "__author__ = \"\"\"Aric Hagberg (hagberg@lanl.gov)\"\"\"\n",
      "try:\n",
      "    import matplotlib.pyplot as plt\n",
      "except:\n",
      "    raise\n",
      "\n",
      "import networkx as nx\n",
      "\n",
      "G=nx.house_graph()\n",
      "# explicitly set positions\n",
      "pos={0:(0,0),\n",
      "     1:(1,0),\n",
      "     2:(0,1),\n",
      "     3:(1,1),\n",
      "     4:(0.5,2.0)}\n",
      "\n",
      "nx.draw_networkx_nodes(G,pos,node_size=2000,nodelist=[4])\n",
      "nx.draw_networkx_nodes(G,pos,node_size=3000,nodelist=[0,1,2,3],node_color='b')\n",
      "nx.draw_networkx_edges(G,pos,alpha=0.5,width=6)\n",
      "plt.axis('off')\n",
      "plt.savefig(\"house_with_colors.png\") # save as png\n",
      "plt.show() # display"
     ],
     "language": "python",
     "metadata": {},
     "outputs": [
      {
       "metadata": {},
       "output_type": "display_data",
       "png": "[encoded data removed]",
       "text": [
        "<matplotlib.figure.Figure at 0x36cf450>"
       ]
      }
     ],
     "prompt_number": 43
    },
    {
     "cell_type": "code",
     "collapsed": false,
     "input": [
      "matrix = np.array([[None,225,270],[45,None,0],[90,180,None]])\n",
      "df = pd.DataFrame(matrix)\n",
      "df"
     ],
     "language": "python",
     "metadata": {},
     "outputs": [
      {
       "html": [
        "<div style=\"max-height:1000px;max-width:1500px;overflow:auto;\">\n",
        "<table border=\"1\" class=\"dataframe\">\n",
        "  <thead>\n",
        "    <tr style=\"text-align: right;\">\n",
        "      <th></th>\n",
        "      <th>0</th>\n",
        "      <th>1</th>\n",
        "      <th>2</th>\n",
        "    </tr>\n",
        "  </thead>\n",
        "  <tbody>\n",
        "    <tr>\n",
        "      <th>0</th>\n",
        "      <td> None</td>\n",
        "      <td>  225</td>\n",
        "      <td>  270</td>\n",
        "    </tr>\n",
        "    <tr>\n",
        "      <th>1</th>\n",
        "      <td>   45</td>\n",
        "      <td> None</td>\n",
        "      <td>    0</td>\n",
        "    </tr>\n",
        "    <tr>\n",
        "      <th>2</th>\n",
        "      <td>   90</td>\n",
        "      <td>  180</td>\n",
        "      <td> None</td>\n",
        "    </tr>\n",
        "  </tbody>\n",
        "</table>\n",
        "</div>"
       ],
       "metadata": {},
       "output_type": "pyout",
       "prompt_number": 47,
       "text": [
        "      0     1     2\n",
        "0  None   225   270\n",
        "1    45  None     0\n",
        "2    90   180  None"
       ]
      }
     ],
     "prompt_number": 47
    },
    {
     "cell_type": "code",
     "collapsed": false,
     "input": [
      "from PIL import Image\n",
      "from get_lat_lon_exif_pil import get_lat_lon\n",
      "image = Image.open(\"/user_home/w_Ruffin/PANO_20130907_143630.jpg\")\n",
      "exif_data = get_exif_data(image)\n",
      "print get_lat_lon(exif_data)"
     ],
     "language": "python",
     "metadata": {},
     "outputs": [
      {
       "output_type": "stream",
       "stream": "stdout",
       "text": [
        "(33.774571944444446, -84.3970288888889)\n"
       ]
      }
     ],
     "prompt_number": 6
    },
    {
     "cell_type": "code",
     "collapsed": false,
     "input": [
      "A = {'A': None, 'B': 255, 'C': 270}\n",
      "B = {'A': 45, 'B': None, 'C': 0}\n",
      "C = {'A': 90, 'B': 180, 'C': None}\n",
      "all = {'A': A, 'B': B, 'C': C}\n",
      "df = pd.DataFrame(all)"
     ],
     "language": "python",
     "metadata": {},
     "outputs": [],
     "prompt_number": 12
    },
    {
     "cell_type": "code",
     "collapsed": false,
     "input": [
      "df"
     ],
     "language": "python",
     "metadata": {},
     "outputs": [
      {
       "html": [
        "<div style=\"max-height:1000px;max-width:1500px;overflow:auto;\">\n",
        "<table border=\"1\" class=\"dataframe\">\n",
        "  <thead>\n",
        "    <tr style=\"text-align: right;\">\n",
        "      <th></th>\n",
        "      <th>A</th>\n",
        "      <th>B</th>\n",
        "      <th>C</th>\n",
        "    </tr>\n",
        "  </thead>\n",
        "  <tbody>\n",
        "    <tr>\n",
        "      <th>A</th>\n",
        "      <td> NaN</td>\n",
        "      <td> 45</td>\n",
        "      <td>  90</td>\n",
        "    </tr>\n",
        "    <tr>\n",
        "      <th>B</th>\n",
        "      <td> 255</td>\n",
        "      <td>NaN</td>\n",
        "      <td> 180</td>\n",
        "    </tr>\n",
        "    <tr>\n",
        "      <th>C</th>\n",
        "      <td> 270</td>\n",
        "      <td>  0</td>\n",
        "      <td> NaN</td>\n",
        "    </tr>\n",
        "  </tbody>\n",
        "</table>\n",
        "</div>"
       ],
       "output_type": "pyout",
       "prompt_number": 13,
       "text": [
        "     A   B    C\n",
        "A  NaN  45   90\n",
        "B  255 NaN  180\n",
        "C  270   0  NaN"
       ]
      }
     ],
     "prompt_number": 13
    },
    {
     "cell_type": "code",
     "collapsed": false,
     "input": [
      "def graphIt(df, imgs):\n",
      "    G = nx.DiGraph()\n",
      "    #for i, row in df.iterrows():\n",
      "        #G.add_node(i,{'lol': 'haha'})\n",
      "    for i, row in df.iterrows():\n",
      "        for j, column in row.iteritems():\n",
      "            if column == column:\n",
      "                G.add_edge(i, j, angle = column)\n",
      "    return G"
     ],
     "language": "python",
     "metadata": {},
     "outputs": [],
     "prompt_number": 162
    },
    {
     "cell_type": "code",
     "collapsed": false,
     "input": [
      "imgs = ['A.jpg','B.jpg','C.jpg']\n",
      "G = graphIt(df, imgs)\n",
      "print(G.nodes())\n",
      "print(G.edges())"
     ],
     "language": "python",
     "metadata": {},
     "outputs": [
      {
       "output_type": "stream",
       "stream": "stdout",
       "text": [
        "['A', 'C', 'B']\n",
        "[('A', 'C'), ('A', 'B'), ('C', 'A'), ('C', 'B'), ('B', 'A'), ('B', 'C')]\n"
       ]
      }
     ],
     "prompt_number": 163
    },
    {
     "cell_type": "code",
     "collapsed": false,
     "input": [
      "#nx.draw(G)\n",
      "#nx.draw_random(G)\n",
      "#nx.draw_circular(G)\n",
      "nx.draw_spectral(G)"
     ],
     "language": "python",
     "metadata": {},
     "outputs": [
      {
       "output_type": "display_data",
       "png": "[encoded data removed]",
       "text": [
        "<matplotlib.figure.Figure at 0x38e53d0>"
       ]
      }
     ],
     "prompt_number": 164
    },
    {
     "cell_type": "code",
     "collapsed": false,
     "input": [
      "print G.neighbors('A')\n",
      "print G['A']\n",
      "print G.edges(data = True)"
     ],
     "language": "python",
     "metadata": {},
     "outputs": [
      {
       "output_type": "stream",
       "stream": "stdout",
       "text": [
        "['C', 'B']\n",
        "{'C': {'angle': 90.0}, 'B': {'angle': 45.0}}\n",
        "[('A', 'C', {'angle': 90.0}), ('A', 'B', {'angle': 45.0}), ('C', 'A', {'angle': 270.0}), ('C', 'B', {'angle': 0.0}), ('B', 'A', {'angle': 255.0}), ('B', 'C', {'angle': 180.0})]\n"
       ]
      }
     ],
     "prompt_number": 166
    },
    {
     "cell_type": "code",
     "collapsed": false,
     "input": [
      "    "
     ],
     "language": "python",
     "metadata": {},
     "outputs": [],
     "prompt_number": 165
    },
    {
     "cell_type": "code",
     "collapsed": false,
     "input": [],
     "language": "python",
     "metadata": {},
     "outputs": []
    }
   ],
   "metadata": {}
  }
 ]
}